{
  "nbformat": 4,
  "nbformat_minor": 0,
  "metadata": {
    "colab": {
      "name": "opencv.ipynb",
      "provenance": [],
      "collapsed_sections": []
    },
    "kernelspec": {
      "name": "python3",
      "display_name": "Python 3"
    },
    "language_info": {
      "name": "python"
    }
  },
  "cells": [
    {
      "cell_type": "code",
      "metadata": {
        "id": "t9QtiUpfBIEu"
      },
      "source": [
        "!pip install opencv-python\n",
        "!pip install pytesseract"
      ],
      "execution_count": null,
      "outputs": []
    },
    {
      "cell_type": "code",
      "metadata": {
        "id": "SdiRi3h5C-Zb"
      },
      "source": [
        "!sudo apt install tesseract-ocr"
      ],
      "execution_count": null,
      "outputs": []
    },
    {
      "cell_type": "code",
      "metadata": {
        "id": "Vr221ryb2MrU"
      },
      "source": [
        "!unzip data.zip -d data"
      ],
      "execution_count": null,
      "outputs": []
    },
    {
      "cell_type": "code",
      "metadata": {
        "id": "FaRKDUc3d1nC"
      },
      "source": [
        "import cv2\n",
        "import pytesseract\n",
        "import glob\n",
        "import os\n",
        "\n",
        "# mention the installed location of Tesseract-OCR in your system\n",
        "pytesseract.pytesseract.tesseract_cmd = '/usr/bin/tesseract'\n",
        "\n",
        "path = \"/trial-imgs/*.*\"\n",
        "\n",
        "img_num = 0\n",
        "for file in glob.glob(path):\n",
        "\n",
        "  # get filename of page with extension removed\n",
        "  pg_fn = os.path.basename(file)\n",
        "  pg_fn = os.path.splitext(pg_fn)[0]\n",
        "\n",
        "  # read image from which text needs to be extracted\n",
        "  img = cv2.imread(file)\n",
        "\n",
        "  # preprocessing the image starts\n",
        "\n",
        "  # convert the image to gray scale\n",
        "  gray = cv2.cvtColor(img, cv2.COLOR_BGR2GRAY)\n",
        "\n",
        "\n",
        "  # performing OTSU threshold\n",
        "  ret, thresh1 = cv2.threshold(gray, 0, 255, cv2.THRESH_OTSU | cv2.THRESH_BINARY_INV)\n",
        "\n",
        "\n",
        "  # specify structure shape and kernel size.\n",
        "  # kernel size increases or decreases the area\n",
        "  # of the rectangle to be detected.\n",
        "  # smaller value like (10, 10) will detect\n",
        "  # each word instead of a sentence.\n",
        "  rect_kernel = cv2.getStructuringElement(cv2.MORPH_RECT, (11, 11))\n",
        "\n",
        "  # applying dilation on the threshold image\n",
        "  dilation = cv2.dilate(thresh1, rect_kernel, iterations = 1)\n",
        "\n",
        "  # finding contours\n",
        "  contours, hierarchy = cv2.findContours(dilation, cv2.RETR_EXTERNAL,\n",
        "                          cv2.CHAIN_APPROX_NONE)\n",
        "\n",
        "  # creating copy of image\n",
        "  im2 = img.copy()\n",
        "\n",
        "  # looping through the identified contours\n",
        "  # then rectangular part is cropped and passed on\n",
        "  # to pytesseract for extracting text from it\n",
        "  # extracted text is then written into the text file\n",
        "  i = 0\n",
        "  for cnt in contours:\n",
        "    x, y, w, h = cv2.boundingRect(cnt)\n",
        "\n",
        "    # cropping the text block for giving input to OCR\n",
        "    cropped = im2[y:y + h, x:x + w]\n",
        "\n",
        "    # apply OCR on the cropped image to create annotations\n",
        "    text = pytesseract.image_to_string(cropped)\n",
        "    \n",
        "    pic_name = pg_fn + '-crop-' + str(i) + \".jpg\"\n",
        "    if w >= 100 and h >= 100:\n",
        "      imge = cv2.imwrite(pic_name, cropped)\n",
        "      i +=1\n",
        "    \n",
        "    # # drawing a rectangle around boundingRect and annotating it for reference\n",
        "    # rect = cv2.rectangle(im2, (x, y), (x + w, y + h), (0, 255, 0), 1)\n",
        "    \n",
        "    # anno_name = 'ref' + str(img_num) + '.jpg'\n",
        "    # anno_rect = cv2.putText(rect, text[:30] + str(w) + \"x\" + str(h), (x, y-10), cv2.FONT_HERSHEY_SIMPLEX, 0.5, (36,255,12), 1)\n",
        "    # status = cv2.imwrite(anno_name, rect)\n",
        "\n",
        "    print(text)\n",
        "  img_num += 1"
      ],
      "execution_count": null,
      "outputs": []
    },
    {
      "cell_type": "code",
      "metadata": {
        "id": "9CbN4epv4502"
      },
      "source": [
        ""
      ],
      "execution_count": null,
      "outputs": []
    }
  ]
}