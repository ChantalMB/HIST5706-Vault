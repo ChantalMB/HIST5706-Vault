{
 "cells": [
  {
   "cell_type": "code",
   "execution_count": 4,
   "id": "20832326",
   "metadata": {},
   "outputs": [
    {
     "name": "stdout",
     "output_type": "stream",
     "text": [
      "Collecting flask\n",
      "  Using cached Flask-2.0.2-py3-none-any.whl (95 kB)\n",
      "Collecting Werkzeug>=2.0\n",
      "  Using cached Werkzeug-2.0.2-py3-none-any.whl (288 kB)\n",
      "Requirement already satisfied: Jinja2>=3.0 in /usr/local/Caskroom/miniconda/base/envs/imgclass/lib/python3.9/site-packages (from flask) (3.0.2)\n",
      "Collecting itsdangerous>=2.0\n",
      "  Using cached itsdangerous-2.0.1-py3-none-any.whl (18 kB)\n",
      "Collecting click>=7.1.2\n",
      "  Using cached click-8.0.3-py3-none-any.whl (97 kB)\n",
      "Requirement already satisfied: MarkupSafe>=2.0 in /usr/local/Caskroom/miniconda/base/envs/imgclass/lib/python3.9/site-packages (from Jinja2>=3.0->flask) (2.0.1)\n",
      "Installing collected packages: Werkzeug, itsdangerous, click, flask\n",
      "Successfully installed Werkzeug-2.0.2 click-8.0.3 flask-2.0.2 itsdangerous-2.0.1\n"
     ]
    }
   ],
   "source": [
    "!pip install flask"
   ]
  },
  {
   "cell_type": "code",
   "execution_count": 8,
   "id": "6e270bf1",
   "metadata": {},
   "outputs": [],
   "source": [
    "import requests\n",
    "import json\n",
    "\n",
    "from flask import jsonify\n",
    "\n",
    "files = ['uk-dress-objects.json',\n",
    "        'us-dress-objects.json',\n",
    "        'fr-dress-objects.json']\n",
    "\n",
    "for og_file in files:\n",
    "    f = open(og_file)\n",
    "    data = json.load(f)\n",
    "    f.close()\n",
    "\n",
    "    objectIDs = data.get(\"objectIDs\")\n",
    "    \n",
    "    output_nm = og_file + \"-img.txt\"\n",
    "\n",
    "    with open(output_nm, 'a') as list_of_imgs:\n",
    "\n",
    "        for i in objectIDs:\n",
    "            url = 'https://collectionapi.metmuseum.org/public/collection/v1/objects/' + str(i)\n",
    "            r = requests.get(url)\n",
    "\n",
    "            # make everything JSON since API doesn't always return valid JSON\n",
    "            if r.headers['Content-Type'] == \"text/html\":\n",
    "                tmp = flask.jsonify(r)\n",
    "            else:\n",
    "                tmp = r.json()\n",
    "\n",
    "            list_of_imgs.write(tmp.get('primaryImage') + '\\n')\n",
    "\n",
    "            for i in tmp.get('additionalImages'):\n",
    "                list_of_imgs.write(i + '\\n')\n"
   ]
  },
  {
   "cell_type": "code",
   "execution_count": null,
   "id": "cb89dfec",
   "metadata": {},
   "outputs": [],
   "source": []
  }
 ],
 "metadata": {
  "kernelspec": {
   "display_name": "Python 3 (ipykernel)",
   "language": "python",
   "name": "python3"
  },
  "language_info": {
   "codemirror_mode": {
    "name": "ipython",
    "version": 3
   },
   "file_extension": ".py",
   "mimetype": "text/x-python",
   "name": "python",
   "nbconvert_exporter": "python",
   "pygments_lexer": "ipython3",
   "version": "3.9.7"
  }
 },
 "nbformat": 4,
 "nbformat_minor": 5
}
